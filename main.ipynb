{
 "cells": [
  {
   "cell_type": "code",
   "execution_count": 182,
   "metadata": {},
   "outputs": [],
   "source": [
    "from random import randrange\n",
    "import matplotlib.pyplot as plt\n",
    "from collections import defaultdict\n",
    "import pandas as pd"
   ]
  },
  {
   "cell_type": "markdown",
   "metadata": {},
   "source": [
    "##### Custom-Timer "
   ]
  },
  {
   "cell_type": "code",
   "execution_count": 179,
   "metadata": {},
   "outputs": [],
   "source": [
    "from time import perf_counter\n",
    "\n",
    "class TimerError(Exception):\n",
    "    \"\"\"A Custom Error\"\"\"\n",
    "\n",
    "class Timer:\n",
    "    \"\"\"Create a new Timer() object\"\"\"\n",
    "    def __init__(self):\n",
    "        self._start = None\n",
    "        self._elapsed = None\n",
    "    def start(self):\n",
    "        \"\"\"Start a new Timer\"\"\"\n",
    "        if self._start != None:\n",
    "            raise TimerError(\"Timer is running. Use .stop() to reset the timer\")\n",
    "        self._start = perf_counter()\n",
    "    def stop(self):\n",
    "        \"\"\"Save the elapsed time and reset the timer\"\"\"\n",
    "        if self._start == None:\n",
    "            raise TimerError(\"Timer is not running. Use .start() to start a new Timer\")\n",
    "        self._elapsed = perf_counter() - self._start\n",
    "        self._start = None\n",
    "    def elapsed(self):\n",
    "        \"\"\"Report elapsed time\"\"\"\n",
    "        if self._elapsed == None:\n",
    "            raise TimerError(\"Timer has not started yet. Use .start() to start a new Timer\")\n",
    "        return self._elapsed\n",
    "    def __str__(self):\n",
    "        return str(self.elapsed())"
   ]
  },
  {
   "cell_type": "markdown",
   "metadata": {},
   "source": [
    "### 1. Graph \n",
    "Web graphs"
   ]
  },
  {
   "cell_type": "code",
   "execution_count": 180,
   "metadata": {},
   "outputs": [],
   "source": [
    "with open('./Data_Set_Web_Graphs.txt', 'r') as f:\n",
    "    edge_list = list(map(lambda x: tuple(map(int, x.split())), f.readlines()))\n",
    "    adj_list = defaultdict(list)\n",
    "    for edge in edge_list:\n",
    "        adj_list[edge[0]].append(edge[1])"
   ]
  },
  {
   "cell_type": "markdown",
   "metadata": {},
   "source": [
    "- #### Reachability\n",
    "Find out how many clicks your favorite webpage is from the given home page."
   ]
  },
  {
   "cell_type": "code",
   "execution_count": 181,
   "metadata": {},
   "outputs": [
    {
     "data": {
      "text/html": [
       "<div>\n",
       "<style scoped>\n",
       "    .dataframe tbody tr th:only-of-type {\n",
       "        vertical-align: middle;\n",
       "    }\n",
       "\n",
       "    .dataframe tbody tr th {\n",
       "        vertical-align: top;\n",
       "    }\n",
       "\n",
       "    .dataframe thead th {\n",
       "        text-align: right;\n",
       "    }\n",
       "</style>\n",
       "<table border=\"1\" class=\"dataframe\">\n",
       "  <thead>\n",
       "    <tr style=\"text-align: right;\">\n",
       "      <th></th>\n",
       "      <th>Home Page</th>\n",
       "      <th>Webpage</th>\n",
       "      <th>Clicks</th>\n",
       "    </tr>\n",
       "  </thead>\n",
       "  <tbody>\n",
       "    <tr>\n",
       "      <th>3411</th>\n",
       "      <td>0</td>\n",
       "      <td>3663</td>\n",
       "      <td>6</td>\n",
       "    </tr>\n",
       "    <tr>\n",
       "      <th>3651</th>\n",
       "      <td>0</td>\n",
       "      <td>3903</td>\n",
       "      <td>5</td>\n",
       "    </tr>\n",
       "    <tr>\n",
       "      <th>866</th>\n",
       "      <td>0</td>\n",
       "      <td>930</td>\n",
       "      <td>5</td>\n",
       "    </tr>\n",
       "    <tr>\n",
       "      <th>5834</th>\n",
       "      <td>0</td>\n",
       "      <td>6104</td>\n",
       "      <td>8</td>\n",
       "    </tr>\n",
       "    <tr>\n",
       "      <th>3828</th>\n",
       "      <td>0</td>\n",
       "      <td>4080</td>\n",
       "      <td>5</td>\n",
       "    </tr>\n",
       "    <tr>\n",
       "      <th>3106</th>\n",
       "      <td>0</td>\n",
       "      <td>3347</td>\n",
       "      <td>6</td>\n",
       "    </tr>\n",
       "    <tr>\n",
       "      <th>3563</th>\n",
       "      <td>0</td>\n",
       "      <td>3815</td>\n",
       "      <td>6</td>\n",
       "    </tr>\n",
       "    <tr>\n",
       "      <th>37</th>\n",
       "      <td>0</td>\n",
       "      <td>40</td>\n",
       "      <td>9</td>\n",
       "    </tr>\n",
       "    <tr>\n",
       "      <th>1339</th>\n",
       "      <td>0</td>\n",
       "      <td>1498</td>\n",
       "      <td>11</td>\n",
       "    </tr>\n",
       "    <tr>\n",
       "      <th>246</th>\n",
       "      <td>0</td>\n",
       "      <td>265</td>\n",
       "      <td>3</td>\n",
       "    </tr>\n",
       "  </tbody>\n",
       "</table>\n",
       "</div>"
      ],
      "text/plain": [
       "      Home Page  Webpage  Clicks\n",
       "3411          0     3663       6\n",
       "3651          0     3903       5\n",
       "866           0      930       5\n",
       "5834          0     6104       8\n",
       "3828          0     4080       5\n",
       "3106          0     3347       6\n",
       "3563          0     3815       6\n",
       "37            0       40       9\n",
       "1339          0     1498      11\n",
       "246           0      265       3"
      ]
     },
     "execution_count": 181,
     "metadata": {},
     "output_type": "execute_result"
    }
   ],
   "source": [
    "def Clicks(adj_list: dict) -> None:\n",
    "    visited = {i: False for i in range(6301)}\n",
    "\n",
    "    with open('./reachability.csv', 'w') as f:\n",
    "        f.write(f'Home Page,Webpage,Clicks\\n')\n",
    "\n",
    "    for node in adj_list:\n",
    "        if not visited[node]:\n",
    "            path = {i: 0 for i in range(6301)}\n",
    "            queue = []\n",
    "            queue.append(node)\n",
    "            visited[node] = True\n",
    "            \n",
    "            with open('./reachability.csv', 'a') as f:\n",
    "                f.write(f'{node},{node},{0}\\n')\n",
    "                while queue:\n",
    "                    head = queue.pop(0)\n",
    "                    if head in adj_list:\n",
    "                        for neighbour in adj_list[head]:\n",
    "                            if not visited[neighbour]:\n",
    "                                visited[neighbour] = True\n",
    "                                path[neighbour] = path[head] + 1\n",
    "                                queue.append(neighbour)\n",
    "            \n",
    "                for i in path:\n",
    "                    if path[i] != 0:\n",
    "                        f.write(f'{node},{i},{path[i]}\\n')\n",
    "\n",
    "Clicks(adj_list)\n",
    "df = pd.read_csv('./reachability.csv')\n",
    "df.sample(10)"
   ]
  },
  {
   "cell_type": "markdown",
   "metadata": {},
   "source": [
    "- #### Topological Ordering\n",
    "Is it possible to linearly order a huge network of webpages?"
   ]
  },
  {
   "cell_type": "code",
   "execution_count": 49,
   "metadata": {},
   "outputs": [
    {
     "name": "stdout",
     "output_type": "stream",
     "text": [
      "0->1->6->22->26->44->46->52->66->70->72->74->98->109->192->194->236->24->237->239->242->245->310->316->317->319->320->366->399->403->408->410->417->421->428->431->439->441->444->445->447->516->517->519->525->537->539->543->545->546->636->639->641->644->647->653->719->723->752->775->797->896->899->903->905->929->934->936->948->949->950->961->964->966->992->994->999->1008->1075->1080->1083->1098->1099->1101->1108->1110->1111->1112->1113->1117->1119->1121->1161->1181->1182->1183->1185->1186->1187->1188->1189->1190->1200->1201->1204->1205->1206->1207->1218->1000->1222->1225->1226->1237->1238->1241->1242->1244->1247->1260->1263->1286->1293->1294->1296->1298->1307->1308->1312->1314->1315->1398->1399->1403->1406->1410->1445->1446->1448->1449->1450->1452->1453->1295->1455->1462->1463->1464->1465->1467->1468->1469->1470->1472->1474->1478->1479->1483->1494->1497->1499->1502->1520->1521->1523->1525->1527->1562->405->1105->1566->1567->1579->1580->1582->1596->1603->1625->1648->1649->1657->1660->1662->1663->1668->1674->1678->1680->1681->1683->1684->1692->1693->1696->1712->1713->1722->1723->1742->1745->1746->1748->1753->1759->1785->1793->1834->1835->1839->1847->1851->1853->1856->1857->1858->1864->1869->1876->1877->1879->2135->2137->2426->2824->2827->2830->2831->2832->2834->2835->2845->3068->3072->3073->3074->3075->3078->3099->3101->3103->3182->3183->3246->3353->3396->3398->3472->3474->3505->3541->3591->3592->3610->3611->4326->4329->4331->4493->4500->1884->4630->4631->4743->4744->4745->5394->5461->5537->5538->5539->5540->5869->5870->"
     ]
    }
   ],
   "source": [
    "def topological(adj_list):\n",
    "    indegree = {i:0 for i in range(6301)}\n",
    "    for i in adj_list:\n",
    "        for j in adj_list[i]:\n",
    "            indegree[j] += 1\n",
    "    \n",
    "    while indegree:\n",
    "        l = [i for i in indegree if not indegree[i]]\n",
    "        if l == []:\n",
    "            break\n",
    "        l = l[0]\n",
    "        print(l, '', end='', sep='->')\n",
    "        if l in adj_list:\n",
    "            for i in adj_list[l]:\n",
    "                indegree[i] -= 1\n",
    "        indegree.pop(l)\n",
    "\n",
    "topological(adj_list)"
   ]
  },
  {
   "cell_type": "markdown",
   "metadata": {},
   "source": [
    "Topological sort is only applicable on Directed Acyclic Graph (DAG). Since, this dataset contains cycles, the algorithm stops midway. "
   ]
  },
  {
   "cell_type": "markdown",
   "metadata": {},
   "source": [
    "- #### Webpage Navigation\n",
    "Find the strongly connected components in the graph."
   ]
  },
  {
   "cell_type": "code",
   "execution_count": 177,
   "metadata": {},
   "outputs": [
    {
     "data": {
      "text/html": [
       "<div>\n",
       "<style scoped>\n",
       "    .dataframe tbody tr th:only-of-type {\n",
       "        vertical-align: middle;\n",
       "    }\n",
       "\n",
       "    .dataframe tbody tr th {\n",
       "        vertical-align: top;\n",
       "    }\n",
       "\n",
       "    .dataframe thead th {\n",
       "        text-align: right;\n",
       "    }\n",
       "</style>\n",
       "<table border=\"1\" class=\"dataframe\">\n",
       "  <thead>\n",
       "    <tr style=\"text-align: right;\">\n",
       "      <th></th>\n",
       "      <th>Components</th>\n",
       "      <th>Nodes</th>\n",
       "    </tr>\n",
       "  </thead>\n",
       "  <tbody>\n",
       "    <tr>\n",
       "      <th>3151</th>\n",
       "      <td>[3695]</td>\n",
       "      <td>1</td>\n",
       "    </tr>\n",
       "    <tr>\n",
       "      <th>1166</th>\n",
       "      <td>[5743]</td>\n",
       "      <td>1</td>\n",
       "    </tr>\n",
       "    <tr>\n",
       "      <th>2375</th>\n",
       "      <td>[3162]</td>\n",
       "      <td>1</td>\n",
       "    </tr>\n",
       "    <tr>\n",
       "      <th>4226</th>\n",
       "      <td>[578]</td>\n",
       "      <td>1</td>\n",
       "    </tr>\n",
       "    <tr>\n",
       "      <th>66</th>\n",
       "      <td>[1582]</td>\n",
       "      <td>1</td>\n",
       "    </tr>\n",
       "    <tr>\n",
       "      <th>460</th>\n",
       "      <td>[6142]</td>\n",
       "      <td>1</td>\n",
       "    </tr>\n",
       "    <tr>\n",
       "      <th>2742</th>\n",
       "      <td>[3105]</td>\n",
       "      <td>1</td>\n",
       "    </tr>\n",
       "    <tr>\n",
       "      <th>4123</th>\n",
       "      <td>[69]</td>\n",
       "      <td>1</td>\n",
       "    </tr>\n",
       "    <tr>\n",
       "      <th>1774</th>\n",
       "      <td>[6122]</td>\n",
       "      <td>1</td>\n",
       "    </tr>\n",
       "    <tr>\n",
       "      <th>4127</th>\n",
       "      <td>[1051]</td>\n",
       "      <td>1</td>\n",
       "    </tr>\n",
       "  </tbody>\n",
       "</table>\n",
       "</div>"
      ],
      "text/plain": [
       "     Components  Nodes\n",
       "3151     [3695]      1\n",
       "1166     [5743]      1\n",
       "2375     [3162]      1\n",
       "4226      [578]      1\n",
       "66       [1582]      1\n",
       "460      [6142]      1\n",
       "2742     [3105]      1\n",
       "4123       [69]      1\n",
       "1774     [6122]      1\n",
       "4127     [1051]      1"
      ]
     },
     "execution_count": 177,
     "metadata": {},
     "output_type": "execute_result"
    }
   ],
   "source": [
    "def find_stronglly_connected(adj_list: dict) -> None:\n",
    "    visited = {i: False for i in range(6301)}\n",
    "    nodes = list(adj_list.keys())\n",
    "    stack = []\n",
    "    for node in nodes:\n",
    "        if not visited[node]:\n",
    "            DFS(adj_list, visited, node, stack)\n",
    "\n",
    "    with open('./strongly_connected.csv', 'w') as f:\n",
    "        f.write('Components,Nodes\\n')\n",
    "        \n",
    "    rev_graph = reverse_graph(edge_list)\n",
    "    visited = {i: False for i in range(6301)}\n",
    "    \n",
    "    with open('./strongly_connected.csv', 'a') as f:\n",
    "        while stack:\n",
    "            i = stack.pop()\n",
    "            grp = []\n",
    "            if not visited[i]:\n",
    "                DFS(rev_graph, visited, i, grp)\n",
    "                component = str(list(reversed(grp))).replace(', ', '-')\n",
    "                n = len(component.split('-'))\n",
    "                f.write(f'{component},{n}\\n')\n",
    "                \n",
    "\n",
    "def DFS(adj_list: dict, visited: dict, v: int, stack: list) -> None:\n",
    "    visited[v] = True\n",
    "\n",
    "    if v in adj_list:\n",
    "        for neighbour in adj_list[v]:\n",
    "            if not visited[neighbour]:\n",
    "                DFS(adj_list, visited, neighbour, stack)\n",
    "    stack.append(v)\n",
    "\n",
    "def reverse_graph(edge_list: list) -> dict:\n",
    "    rev_graph = defaultdict(list)\n",
    "    for edge in edge_list:\n",
    "        rev_graph[edge[1]].append(edge[0])\n",
    "    return rev_graph\n",
    "\n",
    "find_stronglly_connected(adj_list)\n",
    "df = pd.read_csv('./strongly_connected.csv')\n",
    "df.sample(10)\n"
   ]
  },
  {
   "cell_type": "markdown",
   "metadata": {},
   "source": [
    "### 2. Sorting \n",
    "Implement bubble sort algorithm"
   ]
  },
  {
   "cell_type": "code",
   "execution_count": 84,
   "metadata": {},
   "outputs": [
    {
     "name": "stdout",
     "output_type": "stream",
     "text": [
      "Array before sorting: 422 608 816 570 834 30 487 986 164 487\n",
      "Array after sorting: 30 164 422 487 487 570 608 816 834 986\n"
     ]
    }
   ],
   "source": [
    "def bubble_sort(arr: list) -> None:\n",
    "    n = len(arr)\n",
    "    for i in range(n):\n",
    "        for j in range(n - 1 - i):\n",
    "            if arr[j] > arr[j + 1]:\n",
    "                arr[j], arr[j + 1] = arr[j + 1], arr[j]\n",
    "    \n",
    "arr = [randrange(1000) for _ in range(10)]\n",
    "\n",
    "print(\"Array before sorting:\", *arr)\n",
    "bubble_sort(arr)\n",
    "print(\"Array after sorting:\", *arr)"
   ]
  },
  {
   "cell_type": "code",
   "execution_count": 83,
   "metadata": {},
   "outputs": [
    {
     "data": {
      "image/png": "[encoded data removed]",
      "text/plain": [
       "<Figure size 640x480 with 1 Axes>"
      ]
     },
     "metadata": {},
     "output_type": "display_data"
    }
   ],
   "source": [
    "n = 2000\n",
    "x = [i for i in range(n)]\n",
    "y1 = [(i**2) * 1e-7 for i in range(n)]\n",
    "y2 = []\n",
    "\n",
    "for i in range(n):\n",
    "    arr = [randrange(n) for j in range(i)]\n",
    "    t = Timer()\n",
    "    t.start()\n",
    "    bubble_sort(arr)\n",
    "    t.stop()\n",
    "    y2.append(t.elapsed())\n",
    "\n",
    "plt.plot(x, y2, color = 'green', label = 'bubble sort')\n",
    "plt.plot(x, y1, color = 'orange', label = 'n^2')\n",
    "\n",
    "plt.xlabel('Array size')\n",
    "plt.ylabel('Time (s)')\n",
    "plt.title('Performance of Bubble Sort algorithm')\n",
    "\n",
    "plt.legend()\n",
    "plt.show()"
   ]
  }
 ],
 "metadata": {
  "kernelspec": {
   "display_name": "Python 3.10.8 64-bit",
   "language": "python",
   "name": "python3"
  },
  "language_info": {
   "codemirror_mode": {
    "name": "ipython",
    "version": 3
   },
   "file_extension": ".py",
   "mimetype": "text/x-python",
   "name": "python",
   "nbconvert_exporter": "python",
   "pygments_lexer": "ipython3",
   "version": "3.10.8"
  },
  "orig_nbformat": 4,
  "vscode": {
   "interpreter": {
    "hash": "b0fa6594d8f4cbf19f97940f81e996739fb7646882a419484c72d19e05852a7e"
   }
  }
 },
 "nbformat": 4,
 "nbformat_minor": 2
}
