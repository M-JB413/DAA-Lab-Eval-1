{
 "cells": [
  {
   "cell_type": "code",
   "execution_count": 1,
   "metadata": {},
   "outputs": [],
   "source": [
    "from random import randrange\n",
    "import matplotlib.pyplot as plt\n",
    "from collections import defaultdict\n",
    "import pandas as pd"
   ]
  },
  {
   "cell_type": "markdown",
   "metadata": {},
   "source": [
    "##### Custom-Timer "
   ]
  },
  {
   "cell_type": "code",
   "execution_count": 2,
   "metadata": {},
   "outputs": [],
   "source": [
    "from time import perf_counter\n",
    "\n",
    "class TimerError(Exception):\n",
    "    \"\"\"A Custom Error\"\"\"\n",
    "\n",
    "class Timer:\n",
    "    \"\"\"Create a new Timer() object\"\"\"\n",
    "    def __init__(self):\n",
    "        self._start = None\n",
    "        self._elapsed = None\n",
    "    def start(self):\n",
    "        \"\"\"Start a new Timer\"\"\"\n",
    "        if self._start != None:\n",
    "            raise TimerError(\"Timer is running. Use .stop() to reset the timer\")\n",
    "        self._start = perf_counter()\n",
    "    def stop(self):\n",
    "        \"\"\"Save the elapsed time and reset the timer\"\"\"\n",
    "        if self._start == None:\n",
    "            raise TimerError(\"Timer is not running. Use .start() to start a new Timer\")\n",
    "        self._elapsed = perf_counter() - self._start\n",
    "        self._start = None\n",
    "    def elapsed(self):\n",
    "        \"\"\"Report elapsed time\"\"\"\n",
    "        if self._elapsed == None:\n",
    "            raise TimerError(\"Timer has not started yet. Use .start() to start a new Timer\")\n",
    "        return self._elapsed\n",
    "    def __str__(self):\n",
    "        return str(self.elapsed())"
   ]
  },
  {
   "cell_type": "markdown",
   "metadata": {},
   "source": [
    "### 1. Graph \n",
    "Web graphs"
   ]
  },
  {
   "cell_type": "code",
   "execution_count": 3,
   "metadata": {},
   "outputs": [],
   "source": [
    "with open('./Data_Set_Web_Graphs.txt', 'r') as f:\n",
    "    edge_list = list(map(lambda x: tuple(map(int, x.split())), f.readlines()))\n",
    "    adj_list = defaultdict(list)\n",
    "    for edge in edge_list:\n",
    "        adj_list[edge[0]].append(edge[1])"
   ]
  },
  {
   "cell_type": "markdown",
   "metadata": {},
   "source": [
    "- #### Reachability\n",
    "Find out how many clicks your favorite webpage is from the given home page."
   ]
  },
  {
   "cell_type": "code",
   "execution_count": 4,
   "metadata": {},
   "outputs": [
    {
     "data": {
      "text/html": [
       "<div>\n",
       "<style scoped>\n",
       "    .dataframe tbody tr th:only-of-type {\n",
       "        vertical-align: middle;\n",
       "    }\n",
       "\n",
       "    .dataframe tbody tr th {\n",
       "        vertical-align: top;\n",
       "    }\n",
       "\n",
       "    .dataframe thead th {\n",
       "        text-align: right;\n",
       "    }\n",
       "</style>\n",
       "<table border=\"1\" class=\"dataframe\">\n",
       "  <thead>\n",
       "    <tr style=\"text-align: right;\">\n",
       "      <th></th>\n",
       "      <th>Home Page</th>\n",
       "      <th>Webpage</th>\n",
       "      <th>Clicks</th>\n",
       "    </tr>\n",
       "  </thead>\n",
       "  <tbody>\n",
       "    <tr>\n",
       "      <th>4651</th>\n",
       "      <td>0</td>\n",
       "      <td>4913</td>\n",
       "      <td>7</td>\n",
       "    </tr>\n",
       "    <tr>\n",
       "      <th>5104</th>\n",
       "      <td>0</td>\n",
       "      <td>5366</td>\n",
       "      <td>8</td>\n",
       "    </tr>\n",
       "    <tr>\n",
       "      <th>3843</th>\n",
       "      <td>0</td>\n",
       "      <td>4095</td>\n",
       "      <td>6</td>\n",
       "    </tr>\n",
       "    <tr>\n",
       "      <th>1436</th>\n",
       "      <td>0</td>\n",
       "      <td>1610</td>\n",
       "      <td>7</td>\n",
       "    </tr>\n",
       "    <tr>\n",
       "      <th>4184</th>\n",
       "      <td>0</td>\n",
       "      <td>4439</td>\n",
       "      <td>7</td>\n",
       "    </tr>\n",
       "    <tr>\n",
       "      <th>3724</th>\n",
       "      <td>0</td>\n",
       "      <td>3976</td>\n",
       "      <td>5</td>\n",
       "    </tr>\n",
       "    <tr>\n",
       "      <th>1642</th>\n",
       "      <td>0</td>\n",
       "      <td>1849</td>\n",
       "      <td>5</td>\n",
       "    </tr>\n",
       "    <tr>\n",
       "      <th>3756</th>\n",
       "      <td>0</td>\n",
       "      <td>4008</td>\n",
       "      <td>9</td>\n",
       "    </tr>\n",
       "    <tr>\n",
       "      <th>260</th>\n",
       "      <td>0</td>\n",
       "      <td>279</td>\n",
       "      <td>5</td>\n",
       "    </tr>\n",
       "    <tr>\n",
       "      <th>6135</th>\n",
       "      <td>1117</td>\n",
       "      <td>1119</td>\n",
       "      <td>1</td>\n",
       "    </tr>\n",
       "  </tbody>\n",
       "</table>\n",
       "</div>"
      ],
      "text/plain": [
       "      Home Page  Webpage  Clicks\n",
       "4651          0     4913       7\n",
       "5104          0     5366       8\n",
       "3843          0     4095       6\n",
       "1436          0     1610       7\n",
       "4184          0     4439       7\n",
       "3724          0     3976       5\n",
       "1642          0     1849       5\n",
       "3756          0     4008       9\n",
       "260           0      279       5\n",
       "6135       1117     1119       1"
      ]
     },
     "execution_count": 4,
     "metadata": {},
     "output_type": "execute_result"
    }
   ],
   "source": [
    "#BFS Traversal\n",
    "def Clicks(adj_list: dict) -> None:\n",
    "    visited = {i: False for i in range(6301)}\n",
    "\n",
    "    with open('./reachability.csv', 'w') as f:\n",
    "        f.write(f'Home Page,Webpage,Clicks\\n')\n",
    "\n",
    "    for node in adj_list:\n",
    "        if not visited[node]:\n",
    "            path = {i: 0 for i in range(6301)}\n",
    "            queue = []\n",
    "            queue.append(node)\n",
    "            visited[node] = True\n",
    "            \n",
    "            with open('./reachability.csv', 'a') as f:\n",
    "                f.write(f'{node},{node},{0}\\n')\n",
    "                while queue:\n",
    "                    head = queue.pop(0)\n",
    "                    if head in adj_list:\n",
    "                        for neighbour in adj_list[head]:\n",
    "                            if not visited[neighbour]:\n",
    "                                visited[neighbour] = True\n",
    "                                path[neighbour] = path[head] + 1\n",
    "                                queue.append(neighbour)\n",
    "            \n",
    "                for i in path:\n",
    "                    if path[i] != 0:\n",
    "                        f.write(f'{node},{i},{path[i]}\\n')\n",
    "\n",
    "Clicks(adj_list)\n",
    "df = pd.read_csv('./reachability.csv')\n",
    "df.sample(10)"
   ]
  },
  {
   "cell_type": "markdown",
   "metadata": {},
   "source": [
    "- #### Topological Ordering\n",
    "Is it possible to linearly order a huge network of webpages?"
   ]
  },
  {
   "cell_type": "code",
   "execution_count": 5,
   "metadata": {},
   "outputs": [
    {
     "name": "stdout",
     "output_type": "stream",
     "text": [
      "0 -> 1 -> 6 -> 22 -> 26 -> 44 -> 46 -> 52 -> 66 -> 70 -> 72 -> 74 -> 98 -> 109 -> 192 -> 194 -> 236 -> 24 -> 237 -> 239 -> 242 -> 245 -> 310 -> 316 -> 317 -> 319 -> 320 -> 366 -> 399 -> 403 -> 408 -> 410 -> 417 -> 421 -> 428 -> 431 -> 439 -> 441 -> 444 -> 445 -> 447 -> 516 -> 517 -> 519 -> 525 -> 537 -> 539 -> 543 -> 545 -> 546 -> 636 -> 639 -> 641 -> 644 -> 647 -> 653 -> 719 -> 723 -> 752 -> 775 -> 797 -> 896 -> 899 -> 903 -> 905 -> 929 -> 934 -> 936 -> 948 -> 949 -> 950 -> 961 -> 964 -> 966 -> 992 -> 994 -> 999 -> 1008 -> 1075 -> 1080 -> 1083 -> 1098 -> 1099 -> 1101 -> 1108 -> 1110 -> 1111 -> 1112 -> 1113 -> 1117 -> 1119 -> 1121 -> 1161 -> 1181 -> 1182 -> 1183 -> 1185 -> 1186 -> 1187 -> 1188 -> 1189 -> 1190 -> 1200 -> 1201 -> 1204 -> 1205 -> 1206 -> 1207 -> 1218 -> 1000 -> 1222 -> 1225 -> 1226 -> 1237 -> 1238 -> 1241 -> 1242 -> 1244 -> 1247 -> 1260 -> 1263 -> 1286 -> 1293 -> 1294 -> 1296 -> 1298 -> 1307 -> 1308 -> 1312 -> 1314 -> 1315 -> 1398 -> 1399 -> 1403 -> 1406 -> 1410 -> 1445 -> 1446 -> 1448 -> 1449 -> 1450 -> 1452 -> 1453 -> 1295 -> 1455 -> 1462 -> 1463 -> 1464 -> 1465 -> 1467 -> 1468 -> 1469 -> 1470 -> 1472 -> 1474 -> 1478 -> 1479 -> 1483 -> 1494 -> 1497 -> 1499 -> 1502 -> 1520 -> 1521 -> 1523 -> 1525 -> 1527 -> 1562 -> 405 -> 1105 -> 1566 -> 1567 -> 1579 -> 1580 -> 1582 -> 1596 -> 1603 -> 1625 -> 1648 -> 1649 -> 1657 -> 1660 -> 1662 -> 1663 -> 1668 -> 1674 -> 1678 -> 1680 -> 1681 -> 1683 -> 1684 -> 1692 -> 1693 -> 1696 -> 1712 -> 1713 -> 1722 -> 1723 -> 1742 -> 1745 -> 1746 -> 1748 -> 1753 -> 1759 -> 1785 -> 1793 -> 1834 -> 1835 -> 1839 -> 1847 -> 1851 -> 1853 -> 1856 -> 1857 -> 1858 -> 1864 -> 1869 -> 1876 -> 1877 -> 1879 -> 2135 -> 2137 -> 2426 -> 2824 -> 2827 -> 2830 -> 2831 -> 2832 -> 2834 -> 2835 -> 2845 -> 3068 -> 3072 -> 3073 -> 3074 -> 3075 -> 3078 -> 3099 -> 3101 -> 3103 -> 3182 -> 3183 -> 3246 -> 3353 -> 3396 -> 3398 -> 3472 -> 3474 -> 3505 -> 3541 -> 3591 -> 3592 -> 3610 -> 3611 -> 4326 -> 4329 -> 4331 -> 4493 -> 4500 -> 1884 -> 4630 -> 4631 -> 4743 -> 4744 -> 4745 -> 5394 -> 5461 -> 5537 -> 5538 -> 5539 -> 5540 -> 5869 -> 5870 -> "
     ]
    }
   ],
   "source": [
    "#DFS Traversal\n",
    "def topological(adj_list):\n",
    "    indegree = {i:0 for i in range(6301)}\n",
    "    for i in adj_list:\n",
    "        for j in adj_list[i]:\n",
    "            indegree[j] += 1\n",
    "    \n",
    "    while indegree:\n",
    "        l = [i for i in indegree if not indegree[i]]\n",
    "        if l == []:\n",
    "            break\n",
    "        l = l[0]\n",
    "        print(l, '', end='', sep=' -> ')\n",
    "        if l in adj_list:\n",
    "            for i in adj_list[l]:\n",
    "                indegree[i] -= 1\n",
    "        indegree.pop(l)\n",
    "\n",
    "topological(adj_list)"
   ]
  },
  {
   "cell_type": "markdown",
   "metadata": {},
   "source": [
    "Topological sort is only applicable on Directed Acyclic Graph (DAG). Since, this dataset contains cycles, the algorithm stops midway. "
   ]
  },
  {
   "cell_type": "markdown",
   "metadata": {},
   "source": [
    "- #### Webpage Navigation\n",
    "Find the strongly connected components in the graph."
   ]
  },
  {
   "cell_type": "code",
   "execution_count": 6,
   "metadata": {},
   "outputs": [
    {
     "name": "stdout",
     "output_type": "stream",
     "text": [
      "     Components  Nodes\n",
      "1623     [5125]      1\n",
      "2777     [2968]      1\n",
      "2480     [1623]      1\n",
      "1794     [4383]      1\n",
      "587      [4994]      1\n",
      "3330      [214]      1\n",
      "917      [3493]      1\n",
      "2877     [4868]      1\n",
      "1092      [941]      1\n",
      "2583     [2422]      1\n",
      "No of SCCs: 4234\n"
     ]
    }
   ],
   "source": [
    "#Kosaraja's Algorithm\n",
    "def find_stronglly_connected(adj_list: dict) -> None:\n",
    "    visited = {i: False for i in range(6301)}\n",
    "    nodes = list(adj_list.keys())\n",
    "    stack = []\n",
    "    for node in nodes:\n",
    "        if not visited[node]:\n",
    "            DFS(adj_list, visited, node, stack)\n",
    "\n",
    "    with open('./strongly_connected.csv', 'w') as f:\n",
    "        f.write('Components,Nodes\\n')\n",
    "        \n",
    "    rev_graph = reverse_graph(edge_list)\n",
    "    visited = {i: False for i in range(6301)}\n",
    "    \n",
    "    with open('./strongly_connected.csv', 'a') as f:\n",
    "        while stack:\n",
    "            i = stack.pop()\n",
    "            grp = []\n",
    "            if not visited[i]:\n",
    "                DFS(rev_graph, visited, i, grp)\n",
    "                component = str(list(reversed(grp))).replace(', ', '-')\n",
    "                n = len(component.split('-'))\n",
    "                f.write(f'{component},{n}\\n')\n",
    "                \n",
    "\n",
    "def DFS(adj_list: dict, visited: dict, v: int, stack: list) -> None:\n",
    "    visited[v] = True\n",
    "\n",
    "    if v in adj_list:\n",
    "        for neighbour in adj_list[v]:\n",
    "            if not visited[neighbour]:\n",
    "                DFS(adj_list, visited, neighbour, stack)\n",
    "    stack.append(v)\n",
    "\n",
    "def reverse_graph(edge_list: list) -> dict:\n",
    "    rev_graph = defaultdict(list)\n",
    "    for edge in edge_list:\n",
    "        rev_graph[edge[1]].append(edge[0])\n",
    "    return rev_graph\n",
    "\n",
    "find_stronglly_connected(adj_list)\n",
    "df = pd.read_csv('./strongly_connected.csv')\n",
    "print(df.sample(10))\n",
    "print('No of SCCs:', df.shape[0])"
   ]
  },
  {
   "cell_type": "markdown",
   "metadata": {},
   "source": [
    "- #### Bi-Connected Components\n",
    "Find articulation points and using it find the components"
   ]
  },
  {
   "cell_type": "code",
   "execution_count": 25,
   "metadata": {},
   "outputs": [
    {
     "name": "stdout",
     "output_type": "stream",
     "text": [
      "                                             Components  Edges\n",
      "1353                                     ['(473-3205)']      1\n",
      "1497                                    ['(3235-4622)']      1\n",
      "2835                                    ['(3626-1262)']      1\n",
      "3864  ['(410-417)' | '(410-414)' | '(410-412)' | '(4...      4\n",
      "3252                                    ['(5171-5676)']      1\n",
      "2748                                    ['(4669-5416)']      1\n",
      "3005                                    ['(3160-4561)']      1\n",
      "3965                     ['(1403-1406)' | '(1403-132)']      2\n",
      "1441                                    ['(4875-3395)']      1\n",
      "2409                                    ['(4492-5322)']      1\n",
      "Above are 4039 biconnected components in graph.\n"
     ]
    }
   ],
   "source": [
    "size = 6301\n",
    "Time = 0\n",
    "Count = 0\n",
    "\n",
    "def bi_connected_init(adj_list, u, parent, low, disc, st): \n",
    "    children = 0\n",
    "    global Time\n",
    "    global Count\n",
    "\n",
    "    disc[u] = Time \n",
    "    low[u] = Time \n",
    "    Time += 1\n",
    "\n",
    "    for v in adj_list[u]: \n",
    "        if disc[v] == -1 : \n",
    "            parent[v] = u \n",
    "            children += 1\n",
    "            st.append((u, v))\n",
    "            bi_connected_init(adj_list,v, parent, low, disc, st) \n",
    "\n",
    "            low[u] = min(low[u], low[v]) \n",
    "        \n",
    "            if parent[u] == -1 and children > 1 or parent[u] != -1 and low[v] >= disc[u]: \n",
    "                Count += 1\n",
    "                w = -1\n",
    "                l = []\n",
    "                while w != (u, v): \n",
    "                    w = st.pop() \n",
    "                    temp = str(w).replace(', ','-') \n",
    "                    l.append(temp)\n",
    "                n = len(l)\n",
    "                with open('./biconnected.csv', 'a') as f:\n",
    "                    l = str(l).replace(', ', ' | ')\n",
    "                    f.write(f'{l},{n}\\n')\n",
    "            \n",
    "        elif v != parent[u] and low[u] > disc[v]: \n",
    "            low[u] = min(low [u], disc[v]) \n",
    "            st.append((u, v)) \n",
    "  \n",
    "def bi_connected(adj_list): \n",
    "    global Count    \n",
    "\n",
    "    disc = [-1] * (size) \n",
    "    low = [-1] * (size) \n",
    "    parent = [-1] * (size) \n",
    "    st = [] \n",
    "\n",
    "    for i in range(size): \n",
    "        if disc[i] == -1: \n",
    "            bi_connected_init(adj_list,i, parent, low, disc, st) \n",
    "\n",
    "        if st: \n",
    "            Count = Count + 1\n",
    "            l=[]\n",
    "            while st: \n",
    "                w = st.pop()\n",
    "                temp = str(w).replace(', ','-') \n",
    "                l.append(temp)\n",
    "            n = len(l)\n",
    "            with open('./biconnected.csv', 'a') as f:\n",
    "                l = str(l).replace(', ', ' | ')\n",
    "                f.write(f'{l},{n}\\n')\n",
    "with open('./biconnected.csv', 'w') as f:\n",
    "    f.write(f'Components,Edges\\n')\n",
    "bi_connected(adj_list)\n",
    "df = pd.read_csv('./biconnected.csv')\n",
    "print(df.sample(10))\n",
    "print (\"Above are %d biconnected components in graph.\" %(Count))"
   ]
  },
  {
   "cell_type": "markdown",
   "metadata": {},
   "source": [
    "### 2. Sorting \n",
    "Implement bubble sort algorithm"
   ]
  },
  {
   "cell_type": "code",
   "execution_count": 39,
   "metadata": {},
   "outputs": [
    {
     "name": "stdout",
     "output_type": "stream",
     "text": [
      "Array before sorting: 120 741 348 697 227 549 871 555 411 647\n",
      "Array after sorting: 120 227 348 411 549 555 647 697 741 871\n"
     ]
    }
   ],
   "source": [
    "def bubble_sort(arr: list) -> None:\n",
    "    n = len(arr)\n",
    "    for i in range(n):\n",
    "        swapped = False\n",
    "        for j in range(n - 1 - i):\n",
    "            if arr[j] > arr[j + 1]:\n",
    "                arr[j], arr[j + 1] = arr[j + 1], arr[j]\n",
    "                swapped = True\n",
    "        if not swapped:\n",
    "            break\n",
    "    \n",
    "arr = [randrange(1000) for _ in range(10)]\n",
    "\n",
    "print(\"Array before sorting:\", *arr)\n",
    "bubble_sort(arr)\n",
    "print(\"Array after sorting:\", *arr)"
   ]
  },
  {
   "cell_type": "code",
   "execution_count": 49,
   "metadata": {},
   "outputs": [
    {
     "data": {
      "image/png": "[encoded data removed]",
      "text/plain": [
       "<Figure size 640x480 with 1 Axes>"
      ]
     },
     "metadata": {},
     "output_type": "display_data"
    }
   ],
   "source": [
    "n = 1000\n",
    "x = [i for i in range(n)]\n",
    "y1 = [(i**2) * 1e-7 for i in range(n)]\n",
    "y_best = []\n",
    "y_avg = []\n",
    "y_worst = []\n",
    "\n",
    "rev_arr = []\n",
    "sorted_arr = []\n",
    "for i in range(n):\n",
    "    arr = [randrange(n) for j in range(i)]\n",
    "    arr.sort()\n",
    "    sorted_arr.append(arr)\n",
    "    rev_arr.append(list(reversed(arr)))\n",
    "\n",
    "\n",
    "for i in range(n):\n",
    "    t = Timer()\n",
    "    t.start()\n",
    "    bubble_sort(sorted_arr[i])\n",
    "    t.stop()\n",
    "    y_best.append(t.elapsed())\n",
    "\n",
    "for i in range(n):\n",
    "    arr_avg = [randrange(n) for j in range(i)]\n",
    "    t = Timer()\n",
    "    t.start()\n",
    "    bubble_sort(arr_avg)\n",
    "    t.stop()\n",
    "    y_avg.append(t.elapsed())\n",
    "\n",
    "for i in range(n):\n",
    "    t = Timer()\n",
    "    t.start()\n",
    "    bubble_sort(rev_arr[i])\n",
    "    t.stop()\n",
    "    y_worst.append(t.elapsed())\n",
    "\n",
    "plt.plot(x, y_best, color = 'green', label = 'Sorted array')\n",
    "plt.plot(x, y_avg, color = 'blue', label = 'Random array')\n",
    "plt.plot(x, y_worst, color = 'red', label = 'Reverse Sorted')\n",
    "plt.plot(x, y1, color = 'orange', label = 'n^2')\n",
    "\n",
    "plt.xlabel('Array size')\n",
    "plt.ylabel('Time (s)')\n",
    "plt.title('Performance of Bubble Sort algorithm')\n",
    "\n",
    "plt.legend()\n",
    "plt.show()"
   ]
  }
 ],
 "metadata": {
  "kernelspec": {
   "display_name": "Python 3.10.8 64-bit",
   "language": "python",
   "name": "python3"
  },
  "language_info": {
   "codemirror_mode": {
    "name": "ipython",
    "version": 3
   },
   "file_extension": ".py",
   "mimetype": "text/x-python",
   "name": "python",
   "nbconvert_exporter": "python",
   "pygments_lexer": "ipython3",
   "version": "3.10.8"
  },
  "orig_nbformat": 4,
  "vscode": {
   "interpreter": {
    "hash": "b0fa6594d8f4cbf19f97940f81e996739fb7646882a419484c72d19e05852a7e"
   }
  }
 },
 "nbformat": 4,
 "nbformat_minor": 2
}
